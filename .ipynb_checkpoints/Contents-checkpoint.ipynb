{
 "cells": [
  {
   "cell_type": "markdown",
   "metadata": {},
   "source": [
    "# Mixed Signals\n",
    "\n",
    "### Introduction\n",
    "\n",
    "- [Overview](Overview.ipynb)\n",
    "\n",
    "### Exploratory Data Analysis\n",
    "\n",
    "- [Analyze MNIST Images](AnalyzeMNIST.ipynb)\n",
    "- [Analyze Grass Images](AnalyzeGrassImages.ipynb)\n",
    "- [Analyze Mixed Images](AnalyzeMixedImages.ipynb)\n",
    "\n",
    "### Experiments\n",
    "\n",
    "- [Projection Experiments](ProjectionExperiments.ipynb)\n",
    "\n",
    "\n",
    "## Supplemental\n",
    "\n",
    "- [Data Utilities](DataUtils.ipynb)\n",
    "- [Create Grass Data](CreateGrassData.ipynb)\n",
    "\n"
   ]
  },
  {
   "cell_type": "code",
   "execution_count": null,
   "metadata": {},
   "outputs": [],
   "source": []
  }
 ],
 "metadata": {
  "kernelspec": {
   "display_name": "Python 3",
   "language": "python",
   "name": "python3"
  },
  "language_info": {
   "codemirror_mode": {
    "name": "ipython",
    "version": 3
   },
   "file_extension": ".py",
   "mimetype": "text/x-python",
   "name": "python",
   "nbconvert_exporter": "python",
   "pygments_lexer": "ipython3",
   "version": "3.7.0"
  }
 },
 "nbformat": 4,
 "nbformat_minor": 2
}
