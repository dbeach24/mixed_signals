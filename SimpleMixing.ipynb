{
 "cells": [
  {
   "cell_type": "code",
   "execution_count": null,
   "metadata": {},
   "outputs": [],
   "source": [
    "import numpy as np\n",
    "import matplotlib.pyplot as plt\n",
    "from ipywidgets import interact"
   ]
  },
  {
   "cell_type": "code",
   "execution_count": 37,
   "metadata": {},
   "outputs": [
    {
     "data": {
      "application/vnd.jupyter.widget-view+json": {
       "model_id": "3995cf99d09f4b699bf9e55f5cdddfd0",
       "version_major": 2,
       "version_minor": 0
      },
      "text/plain": [
       "interactive(children=(FloatSlider(value=5.0, description='Mag_S', max=10.0), FloatSlider(value=5.0, descriptio…"
      ]
     },
     "metadata": {},
     "output_type": "display_data"
    }
   ],
   "source": [
    "@interact(\n",
    "    Mag_S=(0.0, 10.0, 0.1),\n",
    "    Mag_B=(0.0, 10.0, 0.1),\n",
    "    Theta_S=(0.0, 180., 5.0),\n",
    "    Theta_B=(0.0, 180., 5.0),\n",
    "    N=(100,2000,100),\n",
    ")\n",
    "def mixer(Mag_S, Mag_B, Theta_S, Theta_B, N=5000):\n",
    "    Theta_S /= 180./np.pi\n",
    "    Theta_B /= 180./np.pi\n",
    "\n",
    "    Ds = Mag_S * np.array([np.sin(Theta_S), np.cos(Theta_S)]).reshape([1,2])\n",
    "    Db = Mag_B * np.array([np.sin(Theta_B), np.cos(Theta_B)]).reshape([1,2])\n",
    "\n",
    "    Sdata = np.random.normal(0., 1.0, N).reshape((N, 1)) @ Ds\n",
    "    Bdata = np.random.normal(0., 1.0, N).reshape((N, 1)) @ Db\n",
    "\n",
    "    Smix = Sdata + Bdata\n",
    "\n",
    "    sx = np.array([[-4.0], [4.0]]) @ Ds\n",
    "    bx = np.array([[-4.0], [4.0]]) @ Db\n",
    "    \n",
    "    u, s, v = np.linalg.svd(Smix.T @ Smix)\n",
    "    \n",
    "    us = u * (s ** 0.25)\n",
    "    u0 = np.array([[-1.0], [1.0]]) @ us[:,0].reshape((1, 2))\n",
    "    u1 = np.array([[-1.0], [1.0]]) @ us[:,1].reshape((1, 2))\n",
    "    \n",
    "    sz = 4.5*max(Mag_S, Mag_B)\n",
    "\n",
    "    plt.figure(figsize=(10,10))\n",
    "    plt.scatter(Smix[:,0], Smix[:,1], color='grey', s=3)\n",
    "    plt.plot(sx[:,0], sx[:,1], color='green', label='signal')\n",
    "    plt.plot(bx[:,0], bx[:,1], color='blue', label='background')\n",
    "    plt.plot(u0[:,0], u0[:,1], color='red', label='PC1')\n",
    "    plt.plot(u1[:,0], u1[:,1], color='orange', label='PC2')\n",
    "    plt.legend()\n",
    "    plt.xlim([-sz, sz])\n",
    "    plt.ylim([-sz, sz])\n"
   ]
  },
  {
   "cell_type": "code",
   "execution_count": null,
   "metadata": {},
   "outputs": [],
   "source": []
  }
 ],
 "metadata": {
  "kernelspec": {
   "display_name": "Python 3",
   "language": "python",
   "name": "python3"
  },
  "language_info": {
   "codemirror_mode": {
    "name": "ipython",
    "version": 3
   },
   "file_extension": ".py",
   "mimetype": "text/x-python",
   "name": "python",
   "nbconvert_exporter": "python",
   "pygments_lexer": "ipython3",
   "version": "3.7.0"
  }
 },
 "nbformat": 4,
 "nbformat_minor": 2
}
