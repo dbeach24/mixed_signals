{
 "cells": [
  {
   "cell_type": "markdown",
   "metadata": {},
   "source": [
    "# Data Utilities\n",
    "\n",
    "This is a library of utilities which we use for exploratory data analysis on the \"Mixed Signals\" MNIST data.\n",
    "\n"
   ]
  },
  {
   "cell_type": "code",
   "execution_count": 1,
   "metadata": {},
   "outputs": [],
   "source": [
    "import os\n",
    "\n",
    "import numpy as np\n",
    "import matplotlib.pyplot as plt\n",
    "import h5py\n",
    "import umap\n",
    "from sklearn import manifold"
   ]
  },
  {
   "cell_type": "code",
   "execution_count": 2,
   "metadata": {},
   "outputs": [],
   "source": [
    "def load_data(fname):\n",
    "    \"\"\"Load dataset and labels from HDF5 file with properties (X, labels).\"\"\"\n",
    "    with h5py.File(fname, 'r') as f:\n",
    "        X = f[\"X\"].value\n",
    "        try:\n",
    "            labels = f[\"labels\"].value\n",
    "        except KeyError:\n",
    "            labels = None\n",
    "    return X, labels"
   ]
  },
  {
   "cell_type": "code",
   "execution_count": 17,
   "metadata": {},
   "outputs": [],
   "source": [
    "def normalize_image_data(X):\n",
    "    \"\"\"\n",
    "    Normalize image data through the following process:\n",
    "    \n",
    "    1. Convert pixel intensities (0-255) to floats (0.0-1.0).\n",
    "    2. Mean center the data.\n",
    "    3. Compute the covariance.\n",
    "    \n",
    "    Returns:\n",
    "    \n",
    "    * X0 - the mean centered data\n",
    "    * Xbar - mean values\n",
    "    * CX - the mean centered covariance matrix\n",
    "    \"\"\"\n",
    "    X = X / 255.0\n",
    "    N = X.shape[0]\n",
    "    Xbar = np.mean(X, 0)\n",
    "    X0 = X - Xbar\n",
    "    CX = (X0.T @ X0) / (N - 1)\n",
    "    return X0, Xbar, CX"
   ]
  },
  {
   "cell_type": "code",
   "execution_count": 4,
   "metadata": {},
   "outputs": [],
   "source": [
    "def X_to_img(X, Xbar):\n",
    "    \"\"\"\n",
    "    Transform from mean-centered data space (X) back to pixel space.\n",
    "    This should always be done prior to calling `show_img`.\n",
    "    \"\"\"\n",
    "    return np.asarray(np.clip((X + Xbar), 0.0, 1.0) * 255.0, dtype=np.uint8)"
   ]
  },
  {
   "cell_type": "code",
   "execution_count": 5,
   "metadata": {},
   "outputs": [],
   "source": [
    "def graph_variance_explained(S, n=100):\n",
    "    \"\"\"\n",
    "    Produce a graph of the covariance explained by principal components from `S`,\n",
    "    the vector representation of the diagonal matrix of singular values\n",
    "    resulting from SVD on the covariance matrix.\n",
    "    \"\"\"\n",
    "    S_cum = np.add.accumulate(S)\n",
    "    S_tot = S_cum[-1]\n",
    "    expl = S_cum / S_tot\n",
    "    X = np.arange(1,n+1)\n",
    "    plt.figure(figsize=(10,6))\n",
    "    plt.plot(X, expl[:n], label=\"Total Variance Explained\")\n",
    "    plt.plot(X, S[:n] / S[0], label=\"Singular Value (% of first)\")\n",
    "    plt.legend()"
   ]
  },
  {
   "cell_type": "code",
   "execution_count": 6,
   "metadata": {},
   "outputs": [],
   "source": [
    "def show_img(x):\n",
    "    \"\"\"Show a single image by reshaping to 28x28 and plotting the values.\"\"\"\n",
    "    fig = plt.imshow(x.reshape(28,28), vmin=0, vmax=255, cmap='viridis')\n",
    "    fig.axes.get_xaxis().set_visible(False)\n",
    "    fig.axes.get_yaxis().set_visible(False)\n",
    "    return fig"
   ]
  },
  {
   "cell_type": "code",
   "execution_count": 7,
   "metadata": {},
   "outputs": [],
   "source": [
    "def show_data(X, cols=5, width=10):\n",
    "    \"\"\"Show a sample of data values represented by the rows of `X` as a grid of images.\"\"\"\n",
    "    n = min(len(X), 200)\n",
    "    rows = 1 + (n//cols)\n",
    "    height = (width / float(cols)) * rows\n",
    "    plt.figure(figsize=(width,height))\n",
    "    for i in range(n):\n",
    "        plt.subplot(rows,cols,i+1)\n",
    "        fig = show_img(X[i].reshape(28,28))\n",
    "    plt.tight_layout()\n",
    "    plt.subplots_adjust(wspace=0, hspace=0)"
   ]
  },
  {
   "cell_type": "code",
   "execution_count": 8,
   "metadata": {},
   "outputs": [],
   "source": [
    "def show_pcs(U, n=10, start=1):\n",
    "    \"\"\"\n",
    "    Display the first `n` principal components as images.\n",
    "    These are taken as columns of the `U` matrix from the SVD.\n",
    "    \"\"\"\n",
    "    rows = 1 + (n//5)\n",
    "    plt.figure(figsize=(15,rows*2))\n",
    "    for i in range(start-1, start+n-1):\n",
    "        plt.subplot(rows,5,i-start+2)\n",
    "        fig = plt.imshow(U[:,i].reshape(28,28), cmap='PRGn')\n",
    "        fig.axes.get_xaxis().set_visible(False)\n",
    "        fig.axes.get_yaxis().set_visible(False)\n",
    "        plt.title(\"PC {}\".format(i+1))\n",
    "    plt.tight_layout()"
   ]
  },
  {
   "cell_type": "code",
   "execution_count": 9,
   "metadata": {},
   "outputs": [],
   "source": [
    "def show_splom(X, labels=None, width=10):\n",
    "    \"\"\"\n",
    "    Create a categorically colored scatterplot matrix with stacked histograms on the diagonal.\n",
    "    \n",
    "    Based on [Stackoverflow solution](https://stackoverflow.com/questions/7941207/is-there-a-function-to-make-scatterplot-matrices-in-matplotlib).\n",
    "    \"\"\"\n",
    "    N, D = X.shape\n",
    "    nbins = 50\n",
    "    fig, axes = plt.subplots(nrows=D, ncols=D, figsize=(width,width))\n",
    "    fig.subplots_adjust(hspace=0.05, wspace=0.05)\n",
    "\n",
    "    for ax in axes.flat:        \n",
    "        # Hide all ticks and labels\n",
    "        ax.xaxis.set_visible(False)\n",
    "        ax.yaxis.set_visible(False)\n",
    "\n",
    "        # Set up ticks only on one side for the \"edge\" subplots...\n",
    "        if ax.is_first_col():\n",
    "            ax.yaxis.set_ticks_position('left')\n",
    "        if ax.is_last_col():\n",
    "            ax.yaxis.set_ticks_position('right')\n",
    "        if ax.is_first_row():\n",
    "            ax.xaxis.set_ticks_position('top')\n",
    "        if ax.is_last_row():\n",
    "            ax.xaxis.set_ticks_position('bottom')\n",
    "\n",
    "    # Plot the data.\n",
    "    for i, j in zip(*np.triu_indices_from(axes, k=1)):\n",
    "        for x, y in [(i,j), (j,i)]:\n",
    "            axes[x,y].scatter(X[:,y], X[:,x], c=labels, cmap='tab10', s=1)\n",
    "\n",
    "    uniq_labels = np.sort(np.unique(labels))\n",
    "    stackedX = [X[labels==i] for i in uniq_labels]\n",
    "    # Use 1-D histograms on diagonal plots\n",
    "    for i in range(D):\n",
    "        component = [a[:,i] for a in stackedX]\n",
    "        axes[i,i].hist(component, nbins, histtype='bar', stacked=True)\n",
    "\n",
    "#     # Turn on the proper x or y axes ticks.\n",
    "#     for i, j in zip(range(numvars), itertools.cycle((-1, 0))):\n",
    "#         axes[j,i].xaxis.set_visible(True)\n",
    "#         axes[i,j].yaxis.set_visible(True)"
   ]
  },
  {
   "cell_type": "code",
   "execution_count": 10,
   "metadata": {},
   "outputs": [],
   "source": [
    "def show_embeddings(Xlist, titles=None, labels=None):\n",
    "    \"\"\"\n",
    "    Display multiple embeddings as a horizontal strip of 2-D scatterplots.\n",
    "    \n",
    "    Inputs:\n",
    "    * Xlist - list of embedding matrices, each with shape (N,2)\n",
    "    * titles - corresponding list of plot titles (optional)\n",
    "    * labels - array labels (for coloring only)    \n",
    "    \"\"\"\n",
    "    num = len(Xlist)\n",
    "    plt.figure(figsize=(5*num,5))\n",
    "    for i, X in enumerate(Xlist):\n",
    "        plt.subplot(1,num,i+1)\n",
    "        plt.scatter(X[:,0], X[:,1], c=labels, cmap='tab10', s=1)\n",
    "        plt.axis('equal')\n",
    "        plt.xticks([])\n",
    "        plt.yticks([])\n",
    "        if titles:\n",
    "            plt.title(titles[i])\n",
    "    plt.tight_layout()"
   ]
  },
  {
   "cell_type": "code",
   "execution_count": 11,
   "metadata": {},
   "outputs": [],
   "source": [
    "def isomap_embedding(X, n_neighbors=15):\n",
    "    \"\"\"Compute the 2-D Isomap embedding of the given data.\"\"\"\n",
    "    return manifold.Isomap(n_neighbors=n_neighbors, n_components=2).fit_transform(X)"
   ]
  },
  {
   "cell_type": "code",
   "execution_count": 12,
   "metadata": {},
   "outputs": [],
   "source": [
    "def lle_embedding(X, n_neighbors=15):\n",
    "    \"\"\"Compute the 2-D LLE embedding of the given data.\"\"\"\n",
    "    return manifold.LocallyLinearEmbedding(n_neighbors=n_neighbors, n_components=2).fit_transform(X)"
   ]
  },
  {
   "cell_type": "code",
   "execution_count": 13,
   "metadata": {},
   "outputs": [],
   "source": [
    "def mlle_embedding(X, n_neighbors=15):\n",
    "    \"\"\"Compute the 2-D LLE embedding of the given data.\"\"\"\n",
    "    return manifold.LocallyLinearEmbedding(n_neighbors=n_neighbors, n_components=2, method='modified').fit_transform(X)"
   ]
  },
  {
   "cell_type": "code",
   "execution_count": 14,
   "metadata": {},
   "outputs": [],
   "source": [
    "def tsne_embedding(X, perplexity=15.0):\n",
    "    \"\"\"Compute the tSNE embedding of the given data.\"\"\"\n",
    "    return manifold.TSNE(perplexity=perplexity, n_components=2).fit_transform(X)"
   ]
  },
  {
   "cell_type": "code",
   "execution_count": 15,
   "metadata": {},
   "outputs": [],
   "source": [
    "def umap_embedding(X, n_neighbors=15):\n",
    "    \"\"\"Compute the 2-D UMAP embedding of the given data.\"\"\"\n",
    "    return umap.UMAP(n_neighbors=n_neighbors, n_components=2).fit_transform(X)"
   ]
  },
  {
   "cell_type": "code",
   "execution_count": 16,
   "metadata": {},
   "outputs": [],
   "source": [
    "def get_cpcs(Acov, Bcov, alpha=1.0):\n",
    "    sigma = Acov - Bcov * alpha\n",
    "    w, v = np.linalg.eig(sigma)\n",
    "    idxs = np.argsort(-w)\n",
    "    vtop = v[:,idxs]\n",
    "    return vtop"
   ]
  },
  {
   "cell_type": "code",
   "execution_count": null,
   "metadata": {},
   "outputs": [],
   "source": []
  }
 ],
 "metadata": {
  "kernelspec": {
   "display_name": "Python 3",
   "language": "python",
   "name": "python3"
  },
  "language_info": {
   "codemirror_mode": {
    "name": "ipython",
    "version": 3
   },
   "file_extension": ".py",
   "mimetype": "text/x-python",
   "name": "python",
   "nbconvert_exporter": "python",
   "pygments_lexer": "ipython3",
   "version": "3.7.0"
  }
 },
 "nbformat": 4,
 "nbformat_minor": 2
}
