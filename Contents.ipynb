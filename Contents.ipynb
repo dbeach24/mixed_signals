{
 "cells": [
  {
   "cell_type": "markdown",
   "metadata": {},
   "source": [
    "# Mixed Signals\n",
    "\n",
    "### Introduction\n",
    "\n",
    "- [Overview](Overview.ipynb)\n",
    "\n",
    "### Exploratory Data Analysis\n",
    "\n",
    "- [Analyze MNIST Images](AnalyzeMNIST.ipynb)\n",
    "- [Analyze Grass Images](AnalyzeGrassImages.ipynb)\n",
    "- [Analyze Mixed Images](AnalyzeMixedImages.ipynb)\n",
    "- [Analyze Fashion MNIST](AnalyzeFashionMNIST.ipynb)\n",
    "- [Analyze MNIST/Fashion Mixed Images](AnalyzeMNISTFashionMixedImages.ipynb)\n",
    "\n",
    "### Experiments\n",
    "\n",
    "- [Projection Experiments MNIST/Grass](ProjectionExperimentsMNISTGrass.ipynb)\n",
    "- [Projection Experiments MNIST/Fashion](ProjectionExperimentsMNISTFashion.ipynb)\n",
    "\n",
    "\n",
    "## Supplemental\n",
    "\n",
    "- [Data Utilities](DataUtils.ipynb)\n",
    "- [Create Grass Data](CreateGrassData.ipynb)\n",
    "\n"
   ]
  },
  {
   "cell_type": "code",
   "execution_count": null,
   "metadata": {},
   "outputs": [],
   "source": []
  }
 ],
 "metadata": {
  "kernelspec": {
   "display_name": "Python 3",
   "language": "python",
   "name": "python3"
  },
  "language_info": {
   "codemirror_mode": {
    "name": "ipython",
    "version": 3
   },
   "file_extension": ".py",
   "mimetype": "text/x-python",
   "name": "python",
   "nbconvert_exporter": "python",
   "pygments_lexer": "ipython3",
   "version": "3.7.0"
  }
 },
 "nbformat": 4,
 "nbformat_minor": 2
}
