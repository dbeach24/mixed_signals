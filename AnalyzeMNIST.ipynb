{
 "cells": [
  {
   "cell_type": "markdown",
   "metadata": {},
   "source": [
    "# MNIST Data Analysis"
   ]
  },
  {
   "cell_type": "code",
   "execution_count": null,
   "metadata": {},
   "outputs": [
    {
     "name": "stdout",
     "output_type": "stream",
     "text": [
      "importing Jupyter notebook from DataUtils.ipynb\n"
     ]
    }
   ],
   "source": [
    "import numpy as np\n",
    "import matplotlib.pyplot as plt\n",
    "from ipywidgets import interact\n",
    "\n",
    "import import_ipynb\n",
    "import DataUtils as DU\n",
    "\n",
    "import cache_magic # pip install ipython-cache"
   ]
  },
  {
   "cell_type": "code",
   "execution_count": null,
   "metadata": {},
   "outputs": [],
   "source": [
    "Ximg, Xlab = DU.load_data(\"data/mnist_70000.h5\")"
   ]
  },
  {
   "cell_type": "markdown",
   "metadata": {},
   "source": [
    "## Raw Data\n",
    "\n",
    "MNIST is a dataset of 70,000 handwritten digit images, each normalized to fit within a 28x28 array.\n",
    "\n",
    "Digits are written by different subjects, thus there is considerable variation in the way that digits are formed.\n",
    "\n",
    "Here is a sample of the digits found in MNIST:"
   ]
  },
  {
   "cell_type": "code",
   "execution_count": null,
   "metadata": {},
   "outputs": [],
   "source": [
    "DU.show_data(Ximg[:20], cols=10)"
   ]
  },
  {
   "cell_type": "markdown",
   "metadata": {},
   "source": [
    "## Principal Components\n",
    "\n",
    "We perform singular value decomposition of the covariance matrix to determine the principal components of the data.\n",
    "\n",
    "### Explanation of variance\n",
    "\n",
    "The following graph shows the relative magnitude of each principal component, and how much total variance is explained by the first $k$ principal components.\n"
   ]
  },
  {
   "cell_type": "code",
   "execution_count": null,
   "metadata": {},
   "outputs": [],
   "source": [
    "X, Xbar, CX = DU.normalize_image_data(Ximg)\n",
    "Xu, Xs, Xvt = np.linalg.svd(CX)\n",
    "DU.graph_variance_explained(Xs)"
   ]
  },
  {
   "cell_type": "markdown",
   "metadata": {},
   "source": [
    "### Visualizing Principal Components\n",
    "\n",
    "We can interpret the meaning of each principal component by projecting it as an image."
   ]
  },
  {
   "cell_type": "code",
   "execution_count": null,
   "metadata": {
    "scrolled": false
   },
   "outputs": [],
   "source": [
    "DU.show_pcs(Xu, 10)"
   ]
  },
  {
   "cell_type": "markdown",
   "metadata": {},
   "source": [
    "The graph above shows the first 10 principal components.\n",
    "\n",
    "* The first principal component (PC 1) differentiates between the images `0` and `1`.\n",
    "* Other PCs appear to include recognizable features of digits `9`, `3`, and `6`.\n",
    "* As further principal components are visualized, the apparent complexity of their respective images increases."
   ]
  },
  {
   "cell_type": "markdown",
   "metadata": {},
   "source": [
    "## Determining the Subspace\n",
    "\n",
    "We can attempt to visually estimate the dimension of the linear subspace for MNIST data by looking at dimensionally reduced images projected back into pixel space.\n",
    "\n",
    "Here, we examine the quality of 20 random digits as they are projected into truncated PCA coordianates."
   ]
  },
  {
   "cell_type": "code",
   "execution_count": null,
   "metadata": {
    "scrolled": false
   },
   "outputs": [],
   "source": [
    "dims = [1, 2, 5, 10, 20, 50, 100, 200, 400, 784]\n",
    "\n",
    "samp = X[:20]\n",
    "Psamp = [(samp @ Xu[:,:k]) @ Xu.T[:k,:] for k in dims]\n",
    "\n",
    "pcadigits = np.asarray(Psamp).transpose((1,0,2))\n",
    "\n",
    "DU.show_data(np.vstack(pcadigits) + Xbar, cols=10)"
   ]
  },
  {
   "cell_type": "markdown",
   "metadata": {},
   "source": [
    "In the image above, each row represents an original data point, and each column represents a level of PCA dimension reduction.\n",
    "\n",
    "\n",
    "\n"
   ]
  },
  {
   "cell_type": "markdown",
   "metadata": {},
   "source": [
    "## Observations\n",
    "\n",
    "We can characterize the number of PCA components used roughly as follows:\n",
    "\n",
    "| Dimension | % Variance | Description                                   |\n",
    "| --------- | ---------- | --------------------------------------------- |\n",
    "| 1         | 10%        | digits resolve as 0 or 1                      |\n",
    "| 10        | 40%        | basic forms become recognizable               |\n",
    "| 20        | 60%        | most digits are recognizable                  |\n",
    "| 50        | 80%        | all digits are easily recognizable            |\n",
    "| 51-100    | > 80%      | edges sharpen as more components are added    |\n"
   ]
  },
  {
   "cell_type": "markdown",
   "metadata": {},
   "source": [
    "## Isomap Embeddings\n",
    "\n",
    "We compare the Isomap embeddings of the data when projected into the first $k$ principal components.\n",
    "\n",
    "Due to slow runtimes for Isomap on large datasets, we limit the number of points to `20,000`."
   ]
  },
  {
   "cell_type": "code",
   "execution_count": null,
   "metadata": {},
   "outputs": [],
   "source": [
    "nsamp = 20000\n",
    "Xsamp = X[:nsamp]\n",
    "%cache isomap_mnist_pca5 = DU.isomap_embedding(Xsamp @ Xu[:,:5])\n",
    "%cache isomap_mnist_pca10 = DU.isomap_embedding(Xsamp @ Xu[:,:10])\n",
    "%cache isomap_mnist_pca20 = DU.isomap_embedding(Xsamp @ Xu[:,:20])\n",
    "%cache isomap_mnist_pca50 = DU.isomap_embedding(Xsamp @ Xu[:,:50])\n",
    "%cache isomap_mnist_pca100 = DU.isomap_embedding(Xsamp @ Xu[:,:100])\n",
    "%cache isomap_mnist_all = DU.isomap_embedding(Xsamp)"
   ]
  },
  {
   "cell_type": "code",
   "execution_count": null,
   "metadata": {},
   "outputs": [],
   "source": [
    "DU.show_embeddings(\n",
    "    [isomap_mnist_pca5, isomap_mnist_pca10, isomap_mnist_pca20, isomap_mnist_pca50, isomap_mnist_pca100, isomap_mnist_all],\n",
    "    titles=[\"PCA5\", \"PCA10\", \"PCA20\", \"PCA50\", \"PCA100\", \"Orig\"],\n",
    "    labels=Xlab[:nsamp]\n",
    ")"
   ]
  },
  {
   "cell_type": "markdown",
   "metadata": {},
   "source": [
    "There is little variation across the images provided.  This, combined with the large clouds of overlapping points, suggests that Isomap is not capable representing the manifold in a way which clusters the MNIST digits."
   ]
  },
  {
   "cell_type": "markdown",
   "metadata": {},
   "source": [
    "## Modified Locally Linear Embedding (Modified LLE)\n",
    "\n",
    "Next, we look at PCA projections of the data using LLE.\n",
    "\n",
    "As with Isomap, we will restrict the data to `20,000` samples to reduce runtime."
   ]
  },
  {
   "cell_type": "code",
   "execution_count": null,
   "metadata": {},
   "outputs": [],
   "source": [
    "%cache mlle_mnist_pca5 = DU.mlle_embedding(Xsamp @ Xu[:,:5])\n",
    "%cache mlle_mnist_pca10 = DU.mlle_embedding(Xsamp @ Xu[:,:10])\n",
    "%cache mlle_mnist_pca20 = DU.mlle_embedding(Xsamp @ Xu[:,:20])\n",
    "%cache mlle_mnist_pca50 = DU.mlle_embedding(Xsamp @ Xu[:,:50])\n",
    "%cache mlle_mnist_pca100 = DU.mlle_embedding(Xsamp @ Xu[:,:100])\n",
    "%cache mlle_mnist_all = DU.mlle_embedding(Xsamp)"
   ]
  },
  {
   "cell_type": "code",
   "execution_count": null,
   "metadata": {},
   "outputs": [],
   "source": [
    "DU.show_embeddings(\n",
    "    [mlle_mnist_pca5, mlle_mnist_pca10, mlle_mnist_pca20, mlle_mnist_pca50, mlle_mnist_pca100, mlle_mnist_all],\n",
    "    titles=[\"PCA5\", \"PCA10\", \"PCA20\", \"PCA50\", \"PCA100\", \"Orig\"],\n",
    "    labels=Xlab[:nsamp]\n",
    ")"
   ]
  },
  {
   "cell_type": "markdown",
   "metadata": {},
   "source": [
    "Modified LLE produces similar embeddings when using 20 or more dimensions.  Although the shape of the embedding is crowded, and does not make efficient use of screen real estate, we can see that several of the MNIST digits are organized into separate areas, with some shared boundaries and overlap."
   ]
  },
  {
   "cell_type": "markdown",
   "metadata": {},
   "source": [
    "## Uniform Manifold Approximation and Projection (UMAP)\n",
    "\n",
    "Here, we look at same PCA projections of the data using UMAP."
   ]
  },
  {
   "cell_type": "code",
   "execution_count": null,
   "metadata": {},
   "outputs": [],
   "source": [
    "%cache umap_mnist_pca5 = DU.umap_embedding(X @ Xu[:,:5])\n",
    "%cache umap_mnist_pca10 = DU.umap_embedding(X @ Xu[:,:10])\n",
    "%cache umap_mnist_pca20 = DU.umap_embedding(X @ Xu[:,:20])\n",
    "%cache umap_mnist_pca50 = DU.umap_embedding(X @ Xu[:,:50])\n",
    "%cache umap_mnist_pca100 = DU.umap_embedding(X @ Xu[:,:100])\n",
    "%cache umap_mnist_all = DU.umap_embedding(X)"
   ]
  },
  {
   "cell_type": "code",
   "execution_count": null,
   "metadata": {},
   "outputs": [],
   "source": [
    "DU.show_embeddings(\n",
    "    [umap_mnist_pca5, umap_mnist_pca10, umap_mnist_pca20, umap_mnist_pca50, umap_mnist_pca100, umap_mnist_all],\n",
    "    titles=[\"PCA5\", \"PCA10\", \"PCA20\", \"PCA50\", \"PCA100\", \"Orig\"],\n",
    "    labels=Xlab\n",
    ")"
   ]
  },
  {
   "cell_type": "markdown",
   "metadata": {},
   "source": [
    "The UMAP embeddings appear to do the best job of representing the manifold in two dimensions.  Based on the compactness and separation of visible clusters, UMAP validates our earlier understanding of the manifold and subspace."
   ]
  },
  {
   "cell_type": "markdown",
   "metadata": {},
   "source": [
    "## Conclusion\n",
    "\n",
    "MNIST has an underlying manifold which reveals clusters for each of the separate digits.  To an acceptable degree of approximation, this manifold lies in a **50-D subspace**.\n"
   ]
  },
  {
   "cell_type": "code",
   "execution_count": null,
   "metadata": {},
   "outputs": [],
   "source": [
    "%cache"
   ]
  },
  {
   "cell_type": "code",
   "execution_count": null,
   "metadata": {},
   "outputs": [],
   "source": []
  }
 ],
 "metadata": {
  "kernelspec": {
   "display_name": "Python 3",
   "language": "python",
   "name": "python3"
  },
  "language_info": {
   "codemirror_mode": {
    "name": "ipython",
    "version": 3
   },
   "file_extension": ".py",
   "mimetype": "text/x-python",
   "name": "python",
   "nbconvert_exporter": "python",
   "pygments_lexer": "ipython3",
   "version": "3.7.0"
  }
 },
 "nbformat": 4,
 "nbformat_minor": 2
}
